{
  "nbformat": 4,
  "nbformat_minor": 0,
  "metadata": {
    "colab": {
      "provenance": [],
      "collapsed_sections": []
    },
    "kernelspec": {
      "name": "python3",
      "display_name": "Python 3"
    },
    "accelerator": "TPU"
  },
  "cells": [
    {
      "cell_type": "code",
      "metadata": {
        "id": "qLEt0Y9cFEC6",
        "outputId": "80b7371c-553d-4626-f560-f35a9a2a829c",
        "colab": {
          "base_uri": "https://localhost:8080/",
          "height": 34
        }
      },
      "source": [
        "%tensorflow_version 1.x"
      ],
      "execution_count": null,
      "outputs": [
        {
          "output_type": "stream",
          "text": [
            "TensorFlow 1.x selected.\n"
          ],
          "name": "stdout"
        }
      ]
    },
    {
      "cell_type": "markdown",
      "metadata": {
        "id": "4owCYQiv1Cx7"
      },
      "source": [
        "#Importing of Required Libraries/Modules"
      ]
    },
    {
      "cell_type": "code",
      "metadata": {
        "id": "Ev3408gZyJSu",
        "outputId": "23f9b8b4-4774-44f3-c06e-883b9070a8c3",
        "colab": {
          "base_uri": "https://localhost:8080/",
          "height": 85
        }
      },
      "source": [
        "import pandas as pd\n",
        "import numpy as np\n",
        "import random\n",
        "from sklearn.model_selection import train_test_split\n",
        "from nltk.tokenize import sent_tokenize, word_tokenize \n",
        "from numpy import array\n",
        "from tensorflow.keras.models import Sequential\n",
        "from tensorflow.keras.layers import Dense\n",
        "from keras.layers import Flatten\n",
        "from keras.layers.embeddings import Embedding\n",
        "from keras.layers import Dropout\n",
        "import warnings \n",
        "from sklearn import datasets, linear_model\n",
        "import re\n",
        "from keras.layers.recurrent import LSTM\n",
        "from keras.layers.embeddings import Embedding\n",
        "from keras.models import Model, Sequential\n",
        "from keras.layers import Dense, Activation\n",
        "import matplotlib.pyplot as plt\n",
        "from sklearn.model_selection import train_test_split\n",
        "import chardet\n",
        "from sklearn import model_selection\n",
        "from sklearn.ensemble import RandomForestClassifier\n",
        "from sklearn.metrics import classification_report, confusion_matrix\n",
        "from yellowbrick.classifier import ClassificationReport\n",
        "from sklearn.metrics import roc_curve\n",
        "from sklearn.metrics import plot_confusion_matrix\n",
        "import sklearn\n",
        "from sklearn import preprocessing\n",
        "from sklearn.model_selection import train_test_split\n",
        "from sklearn.preprocessing import StandardScaler\n",
        "from sklearn.neural_network import MLPClassifier\n",
        "from sklearn.metrics import roc_auc_score\n",
        "from sklearn.model_selection import cross_val_score\n",
        "from sklearn.naive_bayes import GaussianNB\n",
        "from sklearn.metrics import accuracy_score\n",
        "from sklearn.metrics import average_precision_score\n",
        "from sklearn.metrics import precision_recall_curve \n",
        "import seaborn as sns\n",
        "\n",
        "warnings.filterwarnings(action = 'ignore') \n",
        "  \n",
        "import gensim \n",
        "from gensim.models import Word2Vec \n",
        "\n",
        "import nltk\n",
        "nltk.download('punkt')"
      ],
      "execution_count": null,
      "outputs": [
        {
          "output_type": "stream",
          "text": [
            "Using TensorFlow backend.\n"
          ],
          "name": "stderr"
        },
        {
          "output_type": "stream",
          "text": [
            "[nltk_data] Downloading package punkt to /root/nltk_data...\n",
            "[nltk_data]   Package punkt is already up-to-date!\n"
          ],
          "name": "stdout"
        },
        {
          "output_type": "execute_result",
          "data": {
            "text/plain": [
              "True"
            ]
          },
          "metadata": {
            "tags": []
          },
          "execution_count": 2
        }
      ]
    },
    {
      "cell_type": "code",
      "metadata": {
        "id": "ZZ1CjDA6yKXw"
      },
      "source": [
        "allurlcsv = pd.read_csv(\"dataset.csv\")\n",
        "allurlsdata = pd.DataFrame(allurlcsv)"
      ],
      "execution_count": null,
      "outputs": []
    },
    {
      "cell_type": "code",
      "metadata": {
        "id": "hBjglkXeyKaR"
      },
      "source": [
        "allurlsdata.replace(('benign', 'malicious'), (1, 0), inplace=True)\n",
        "urls= allurlsdata['url']\n",
        "urls= urls\n",
        "labels = allurlsdata['label']\n",
        "labels=labels"
      ],
      "execution_count": null,
      "outputs": []
    },
    {
      "cell_type": "markdown",
      "metadata": {
        "id": "ATKKW_ki1NH_"
      },
      "source": [
        "#Tokenization"
      ]
    },
    {
      "cell_type": "code",
      "metadata": {
        "id": "1DWp-r7dyKc8"
      },
      "source": [
        "NewdataSet=[]\n",
        "inc=0\n",
        "for i in urls:\n",
        "  temp = re.split(r'[./#=$]', urls[inc])\n",
        "  NewdataSet.append(temp)\n",
        "  inc=inc+1"
      ],
      "execution_count": null,
      "outputs": []
    },
    {
      "cell_type": "code",
      "metadata": {
        "id": "nCdibQ6byKfG",
        "outputId": "7be80efb-56cf-4973-d66f-e073c65f118e",
        "colab": {
          "base_uri": "https://localhost:8080/",
          "height": 34
        }
      },
      "source": [
        "X_train, X_test, y_train, y_test = train_test_split(NewdataSet, labels, test_size=0.45)\n",
        "print (np.array(X_train).shape, np.array(y_train).shape)"
      ],
      "execution_count": null,
      "outputs": [
        {
          "output_type": "stream",
          "text": [
            "(114792,) (114792,)\n"
          ],
          "name": "stdout"
        }
      ]
    },
    {
      "cell_type": "markdown",
      "metadata": {
        "id": "wST_BO522MIe"
      },
      "source": [
        "#Word2Vec"
      ]
    },
    {
      "cell_type": "code",
      "metadata": {
        "id": "8OXAAZKXyKhZ"
      },
      "source": [
        "modelvector = gensim.models.Word2Vec(X_train, min_count = 1, size = 10, window = 5, sg = 1)\n",
        "modelvectortest = gensim.models.Word2Vec(X_test, min_count = 1, size = 10, window = 5, sg = 1)"
      ],
      "execution_count": null,
      "outputs": []
    },
    {
      "cell_type": "code",
      "metadata": {
        "id": "GCdQj2TUyaZ4",
        "outputId": "37b40b08-3e6e-439f-b6f6-66b7a78fd0c6",
        "colab": {
          "base_uri": "https://localhost:8080/",
          "height": 34
        }
      },
      "source": [
        "pretrained_weights = modelvector.wv.syn0\n",
        "vocab_size, emdedding_size = pretrained_weights.shape\n",
        "print('Result embedding shape:', pretrained_weights.shape)\n",
        "\n",
        "def word2idx(word):\n",
        "  return modelvector.wv.vocab[word].index\n",
        "def idx2word(idx):\n",
        "  return modelvector.wv.index2word[idx]"
      ],
      "execution_count": null,
      "outputs": [
        {
          "output_type": "stream",
          "text": [
            "Result embedding shape: (162965, 10)\n"
          ],
          "name": "stdout"
        }
      ]
    },
    {
      "cell_type": "code",
      "metadata": {
        "id": "8XmCUWHjyac5",
        "outputId": "e6a468cc-5af9-476f-bc46-3a23ed9b6a6e",
        "colab": {
          "base_uri": "https://localhost:8080/",
          "height": 34
        }
      },
      "source": [
        "pretrained_weights_test = modelvectortest.wv.syn0\n",
        "vocab_size_test, emdedding_size_test = pretrained_weights_test.shape\n",
        "print('Result embedding shape:', pretrained_weights_test.shape)\n",
        "\n",
        "def word2idx_test(word):\n",
        "  return modelvectortest.wv.vocab[word].index\n",
        "def idx2word_test(idx):\n",
        "  return modelvectortest.wv.index2word[idx]"
      ],
      "execution_count": null,
      "outputs": [
        {
          "output_type": "stream",
          "text": [
            "Result embedding shape: (136973, 10)\n"
          ],
          "name": "stdout"
        }
      ]
    },
    {
      "cell_type": "code",
      "metadata": {
        "id": "P83F2BE2yafk",
        "outputId": "36011011-58a3-4a3e-92d1-1576b06578c4",
        "colab": {
          "base_uri": "https://localhost:8080/",
          "height": 34
        }
      },
      "source": [
        "col=len(max(NewdataSet,key=len))\n",
        "row=len(X_train)\n",
        "print (col)\n",
        "trainXf = np.zeros([len(X_train), col], dtype=np.int32)\n",
        "train_y = np.zeros([len(y_train)], dtype=np.int32)\n",
        "\n",
        "testXf = np.zeros([len(X_test), col], dtype=np.int32)\n",
        "test_y = np.zeros([len(y_test)], dtype=np.int32)\n",
        "\n",
        "for sublist in range(len(X_train)): \n",
        "    for val in range(len(X_train[sublist])):\n",
        "     trainXf[sublist][val]=word2idx(X_train[sublist][val]) \n",
        "\n",
        "for sublist in range(len(X_test)): \n",
        "    for val in range(len(X_test[sublist])):\n",
        "     testXf[sublist][val]=word2idx_test(X_test[sublist][val]) "
      ],
      "execution_count": null,
      "outputs": [
        {
          "output_type": "stream",
          "text": [
            "33\n"
          ],
          "name": "stdout"
        }
      ]
    },
    {
      "cell_type": "code",
      "metadata": {
        "id": "VjBPX0nqyhNt",
        "outputId": "7f4bee04-f014-49fa-a8e4-a87e636f0e0c",
        "colab": {
          "base_uri": "https://localhost:8080/",
          "height": 170
        }
      },
      "source": [
        "print (y_train.dtype)\n",
        "print (y_test.dtype)\n",
        "print (testXf)"
      ],
      "execution_count": null,
      "outputs": [
        {
          "output_type": "stream",
          "text": [
            "int64\n",
            "int64\n",
            "[[     0     58  18363 ...      0      0      0]\n",
            " [     0  18364  18365 ...      0      0      0]\n",
            " [ 18366    600   5564 ...      0      0      0]\n",
            " ...\n",
            " [     0    130    127 ...      0      0      0]\n",
            " [     0 136969 136970 ...      0      0      0]\n",
            " [136971 136972      1 ...      0      0      0]]\n"
          ],
          "name": "stdout"
        }
      ]
    },
    {
      "cell_type": "markdown",
      "metadata": {
        "id": "xtKslGO82Qj6"
      },
      "source": [
        "#1. LSTM "
      ]
    },
    {
      "cell_type": "code",
      "metadata": {
        "id": "7sF5BRewyhQQ",
        "outputId": "fccd2ab3-04bf-4dd2-8252-6b34cde36c2a",
        "colab": {
          "base_uri": "https://localhost:8080/",
          "height": 513
        }
      },
      "source": [
        "model = Sequential()\n",
        "model.add(Embedding(input_dim=vocab_size, output_dim=emdedding_size, \n",
        "                    weights=[pretrained_weights]))\n",
        "model.add(Dropout(0.2))\n",
        "model.add(LSTM(units=emdedding_size))\n",
        "model.add(Dropout(0.2))\n",
        "\n",
        "model.add(Dense(4, activation='relu', kernel_initializer='random_normal'))\n",
        "\n",
        "model.add(Dense(units=1))\n",
        "model.add(Activation('sigmoid'))\n",
        "\n",
        "model.compile(loss='binary_crossentropy', metrics=['accuracy'], optimizer='adam')\n",
        "model.summary()"
      ],
      "execution_count": null,
      "outputs": [
        {
          "output_type": "stream",
          "text": [
            "WARNING:tensorflow:From /tensorflow-1.15.2/python3.6/tensorflow_core/python/ops/resource_variable_ops.py:1630: calling BaseResourceVariable.__init__ (from tensorflow.python.ops.resource_variable_ops) with constraint is deprecated and will be removed in a future version.\n",
            "Instructions for updating:\n",
            "If using Keras pass *_constraint arguments to layers.\n",
            "WARNING:tensorflow:From /tensorflow-1.15.2/python3.6/tensorflow_core/python/ops/nn_impl.py:183: where (from tensorflow.python.ops.array_ops) is deprecated and will be removed in a future version.\n",
            "Instructions for updating:\n",
            "Use tf.where in 2.0, which has the same broadcast rule as np.where\n",
            "Model: \"sequential_1\"\n",
            "_________________________________________________________________\n",
            "Layer (type)                 Output Shape              Param #   \n",
            "=================================================================\n",
            "embedding_1 (Embedding)      (None, None, 10)          1629650   \n",
            "_________________________________________________________________\n",
            "dropout_1 (Dropout)          (None, None, 10)          0         \n",
            "_________________________________________________________________\n",
            "lstm_1 (LSTM)                (None, 10)                840       \n",
            "_________________________________________________________________\n",
            "dropout_2 (Dropout)          (None, 10)                0         \n",
            "_________________________________________________________________\n",
            "dense_1 (Dense)              (None, 4)                 44        \n",
            "_________________________________________________________________\n",
            "dense_2 (Dense)              (None, 1)                 5         \n",
            "_________________________________________________________________\n",
            "activation_1 (Activation)    (None, 1)                 0         \n",
            "=================================================================\n",
            "Total params: 1,630,539\n",
            "Trainable params: 1,630,539\n",
            "Non-trainable params: 0\n",
            "_________________________________________________________________\n"
          ],
          "name": "stdout"
        }
      ]
    },
    {
      "cell_type": "code",
      "metadata": {
        "id": "543kUqRn3mRQ",
        "outputId": "89ff874b-3319-4951-88e2-d0e6d35d8f70",
        "colab": {
          "base_uri": "https://localhost:8080/",
          "height": 173
        }
      },
      "source": [
        "# fit the model\n",
        "model.fit(np.array(trainXf),np.array(y_train), epochs=2, verbose=1,validation_split=0.8)"
      ],
      "execution_count": null,
      "outputs": [
        {
          "output_type": "stream",
          "text": [
            "WARNING:tensorflow:From /usr/local/lib/python3.6/dist-packages/keras/backend/tensorflow_backend.py:422: The name tf.global_variables is deprecated. Please use tf.compat.v1.global_variables instead.\n",
            "\n",
            "Train on 22958 samples, validate on 91834 samples\n",
            "Epoch 1/2\n",
            "22958/22958 [==============================] - 38s 2ms/step - loss: 0.5357 - accuracy: 0.6448 - val_loss: 0.0440 - val_accuracy: 0.9926\n",
            "Epoch 2/2\n",
            "22958/22958 [==============================] - 42s 2ms/step - loss: 0.0574 - accuracy: 0.9899 - val_loss: 0.0399 - val_accuracy: 0.9930\n"
          ],
          "name": "stdout"
        },
        {
          "output_type": "execute_result",
          "data": {
            "text/plain": [
              "<keras.callbacks.callbacks.History at 0x7fd68004b828>"
            ]
          },
          "metadata": {
            "tags": []
          },
          "execution_count": 15
        }
      ]
    },
    {
      "cell_type": "code",
      "metadata": {
        "id": "MGVYsHsK9fRr",
        "outputId": "ef729d8e-c449-4057-c502-d5da4257aa33",
        "colab": {
          "base_uri": "https://localhost:8080/",
          "height": 170
        }
      },
      "source": [
        "count0=0\n",
        "count1=0\n",
        "for i in y_test:\n",
        "  if i ==0:\n",
        "    count0+=1\n",
        "  if i==1:\n",
        "    count1+=1\n",
        "\n",
        "print (count0,\" \",count1,\" \",len(y_test))\n",
        "print (len(testXf))\n",
        "print (testXf)"
      ],
      "execution_count": null,
      "outputs": [
        {
          "output_type": "stream",
          "text": [
            "47018   46903   93921\n",
            "93921\n",
            "[[     0     58  18363 ...      0      0      0]\n",
            " [     0  18364  18365 ...      0      0      0]\n",
            " [ 18366    600   5564 ...      0      0      0]\n",
            " ...\n",
            " [     0    130    127 ...      0      0      0]\n",
            " [     0 136969 136970 ...      0      0      0]\n",
            " [136971 136972      1 ...      0      0      0]]\n"
          ],
          "name": "stdout"
        }
      ]
    },
    {
      "cell_type": "code",
      "metadata": {
        "id": "UCGukbZOyqrD",
        "outputId": "27aa5f33-5810-44e2-e08c-e3ca720db24d",
        "colab": {
          "base_uri": "https://localhost:8080/",
          "height": 51
        }
      },
      "source": [
        "# evaluate the model\n",
        "loss, accuracy = model.evaluate(np.array(testXf) , np.array(y_test), verbose=0)\n",
        "print('Accuracy: %f' % (accuracy*100))\n",
        "print ('loss of' , loss)"
      ],
      "execution_count": null,
      "outputs": [
        {
          "output_type": "stream",
          "text": [
            "Accuracy: 99.293023\n",
            "loss of 0.04072936664571897\n"
          ],
          "name": "stdout"
        }
      ]
    },
    {
      "cell_type": "code",
      "metadata": {
        "id": "zIqMwtx2Qn-u"
      },
      "source": [
        "# predict probabilities for test set\n",
        "yhat_probs = model.predict(testXf, verbose=0)\n",
        "# predict crisp classes for test set\n",
        "yhat_classes = model.predict_classes(testXf, verbose=0)"
      ],
      "execution_count": null,
      "outputs": []
    },
    {
      "cell_type": "code",
      "metadata": {
        "id": "5iStUzGjQoET"
      },
      "source": [
        "# reduce to 1d array\n",
        "yhat_probs = yhat_probs[:, 0]\n",
        "yhat_classes = yhat_classes[:, 0]"
      ],
      "execution_count": null,
      "outputs": []
    },
    {
      "cell_type": "code",
      "metadata": {
        "id": "II99DoWYRMq3"
      },
      "source": [
        "from sklearn.metrics import confusion_matrix,roc_curve,roc_auc_score,cohen_kappa_score,f1_score,recall_score,precision_score,accuracy_score"
      ],
      "execution_count": null,
      "outputs": []
    },
    {
      "cell_type": "markdown",
      "metadata": {
        "id": "-h4pdnsS2VNo"
      },
      "source": [
        "#Results of LSTM"
      ]
    },
    {
      "cell_type": "code",
      "metadata": {
        "id": "fGAfN2ZFQoI4",
        "outputId": "06b868b9-5c63-42d5-803b-da8a94c5b109",
        "colab": {
          "base_uri": "https://localhost:8080/",
          "height": 119
        }
      },
      "source": [
        "# accuracy: (tp + tn) / (p + n)\n",
        "accuracy = accuracy_score(y_test, yhat_classes)\n",
        "print('Accuracy: %f' % accuracy)\n",
        "# precision tp / (tp + fp)\n",
        "precision = precision_score(y_test, yhat_classes)\n",
        "print('Precision: %f' % precision)\n",
        "# recall: tp / (tp + fn)\n",
        "recall = recall_score(y_test, yhat_classes)\n",
        "print('Recall: %f' % recall)\n",
        "# f1: 2 tp / (2 tp + fp + fn)\n",
        "f1 = f1_score(y_test, yhat_classes)\n",
        "print('F1 score: %f' % f1)\n",
        "# kappa\n",
        "kappa = cohen_kappa_score(y_test, yhat_classes)\n",
        "print('Cohens kappa: %f' % kappa)\n",
        "# ROC AUC\n",
        "auc = roc_auc_score(y_test, yhat_probs)\n",
        "print('ROC AUC: %f' % auc)\n"
      ],
      "execution_count": null,
      "outputs": [
        {
          "output_type": "stream",
          "text": [
            "Accuracy: 0.992930\n",
            "Precision: 0.992627\n",
            "Recall: 0.993220\n",
            "F1 score: 0.992924\n",
            "Cohens kappa: 0.985860\n",
            "ROC AUC: 0.993128\n"
          ],
          "name": "stdout"
        }
      ]
    },
    {
      "cell_type": "markdown",
      "metadata": {
        "id": "1A1ar0yH2me1"
      },
      "source": [
        "#ROC Curve for LSTM"
      ]
    },
    {
      "cell_type": "code",
      "metadata": {
        "id": "AL0nRMm_z2m_",
        "outputId": "dfd47e1e-0345-4d05-d72d-6c61c8f51c10",
        "colab": {
          "base_uri": "https://localhost:8080/",
          "height": 313
        }
      },
      "source": [
        "ns_probs=[0 for _ in range(len(y_test))]\n",
        "\n",
        "# calculate scores\n",
        "ns_auc = roc_auc_score(y_test, ns_probs)\n",
        "lr_auc = roc_auc_score(y_test, yhat_probs)\n",
        "\n",
        "# summarize scores\n",
        "print('Abnormal: ROC AUC=%.3f' % (ns_auc))\n",
        "print('Normal: ROC AUC=%.3f' % (lr_auc))\n",
        "\n",
        "ns_fpr, ns_tpr, _ = roc_curve(y_test, ns_probs)\n",
        "lr_fpr, lr_tpr, _ = roc_curve(y_test, yhat_probs)\n",
        "# plot the roc curve for the model\n",
        "plt.plot(ns_fpr, ns_tpr, linestyle='--', label=ns_auc)\n",
        "plt.plot(lr_fpr, lr_tpr, marker='*', label=lr_auc)\n",
        "# axis labels\n",
        "plt.xlabel('False Positive Rate')\n",
        "plt.ylabel('True Positive Rate')\n",
        "# show the legend\n",
        "plt.legend()\n",
        "# show the plot\n",
        "plt.show()"
      ],
      "execution_count": null,
      "outputs": [
        {
          "output_type": "stream",
          "text": [
            "Abnormal: ROC AUC=0.500\n",
            "Normal: ROC AUC=0.993\n"
          ],
          "name": "stdout"
        },
        {
          "output_type": "display_data",
          "data": {
            "image/png": "[encoded data removed]",
            "text/plain": [
              "<Figure size 432x288 with 1 Axes>"
            ]
          },
          "metadata": {
            "tags": [],
            "needs_background": "light"
          }
        }
      ]
    },
    {
      "cell_type": "markdown",
      "metadata": {
        "id": "9It1Cv5-2qZy"
      },
      "source": [
        "#Confusion Matrix for LSTM"
      ]
    },
    {
      "cell_type": "code",
      "metadata": {
        "id": "6PnBMMtNStVY",
        "outputId": "4d5964bf-71fd-4fd0-e26a-f9625054df7b",
        "colab": {
          "base_uri": "https://localhost:8080/",
          "height": 51
        }
      },
      "source": [
        "# confusion matrix\n",
        "cf_matrix = confusion_matrix(y_test, yhat_classes)\n",
        "print(cf_matrix)\n",
        "df_cm = pd.DataFrame(cf_matrix, \n",
        "  index = [ 'Malicious', 'Benign'],\n",
        "  columns = ['Malicious', 'Benign'])"
      ],
      "execution_count": null,
      "outputs": [
        {
          "output_type": "stream",
          "text": [
            "[[46672   346]\n",
            " [  318 46585]]\n"
          ],
          "name": "stdout"
        }
      ]
    },
    {
      "cell_type": "code",
      "metadata": {
        "id": "i7d6IGQ5StYQ",
        "outputId": "8d1d5fbc-fcd0-4cc2-9a60-ec339816665c",
        "colab": {
          "base_uri": "https://localhost:8080/",
          "height": 286
        }
      },
      "source": [
        "cmap = sns.cubehelix_palette(light=1, as_cmap=True)\n",
        "sns.heatmap(df_cm/np.sum(df_cm)*100, annot=True, vmin=0.0, vmax=100.0, fmt='.2f', cmap=cmap)"
      ],
      "execution_count": null,
      "outputs": [
        {
          "output_type": "execute_result",
          "data": {
            "text/plain": [
              "<matplotlib.axes._subplots.AxesSubplot at 0x7fd6794b84e0>"
            ]
          },
          "metadata": {
            "tags": []
          },
          "execution_count": 24
        },
        {
          "output_type": "display_data",
          "data": {
            "image/png": "[encoded data removed]",
            "text/plain": [
              "<Figure size 432x288 with 2 Axes>"
            ]
          },
          "metadata": {
            "tags": [],
            "needs_background": "light"
          }
        }
      ]
    },
    {
      "cell_type": "markdown",
      "metadata": {
        "id": "bJBxgQHp2thl"
      },
      "source": [
        "#2. Random Forest"
      ]
    },
    {
      "cell_type": "code",
      "metadata": {
        "id": "EcWIRBC-HYSh",
        "outputId": "9c09fb9b-f3a8-4670-baf9-9cd90d256321",
        "colab": {
          "base_uri": "https://localhost:8080/",
          "height": 442
        }
      },
      "source": [
        "# random forest model creation\n",
        "rfc1 = RandomForestClassifier(n_estimators=50,max_depth=3,random_state=10)\n",
        "rfc1.fit(trainXf,y_train)\n",
        "\n",
        "# predictions\n",
        "rfc_predict = rfc1.predict(testXf)\n",
        "\n",
        "print(\"=== Confusion Matrix ===\")\n",
        "print(confusion_matrix(y_test, rfc_predict))\n",
        "print('\\n')\n",
        "print(\"=== Classification Report ===\")\n",
        "print(classification_report(y_test, rfc_predict))\n",
        "print('\\n')"
      ],
      "execution_count": null,
      "outputs": [
        {
          "output_type": "stream",
          "text": [
            "(208713, 22)\n",
            "=== Confusion Matrix ===\n",
            "[[34246   178]\n",
            " [  842 33610]]\n",
            "\n",
            "\n",
            "=== Classification Report ===\n",
            "              precision    recall  f1-score   support\n",
            "\n",
            "           0       0.98      0.99      0.99     34424\n",
            "           1       0.99      0.98      0.99     34452\n",
            "\n",
            "    accuracy                           0.99     68876\n",
            "   macro avg       0.99      0.99      0.99     68876\n",
            "weighted avg       0.99      0.99      0.99     68876\n",
            "\n",
            "\n",
            "\n",
            "=== All AUC Scores ===\n",
            "[0.99015798 0.99995148 0.99985305 0.99999933 0.99990219 1.\n",
            " 0.99977604 0.99557389 0.97502321 0.96715957]\n",
            "\n",
            "\n",
            "=== Mean AUC Score ===\n",
            "Mean AUC Score - Random Forest:  0.9927396745326386\n"
          ],
          "name": "stdout"
        }
      ]
    },
    {
      "cell_type": "markdown",
      "metadata": {
        "id": "SWwy0tEb2wey"
      },
      "source": [
        "#Classification Report for RF"
      ]
    },
    {
      "cell_type": "code",
      "metadata": {
        "id": "wkvUY1PBMVGH",
        "outputId": "7a3c378f-2aa0-44fb-814b-00d28ce079d4",
        "colab": {
          "base_uri": "https://localhost:8080/",
          "height": 297
        }
      },
      "source": [
        "# Instantiate the classification model and visualizer\n",
        "visualizer = ClassificationReport(rfc1, classes=['0','1'])\n",
        "visualizer.fit(trainXf,y_train) # Fit the training data to the visualizer\n",
        "visualizer.score(testXf, y_test) # Evaluate the model on the test data\n",
        "g = visualizer.poof() # Draw/show/poof the data"
      ],
      "execution_count": null,
      "outputs": [
        {
          "output_type": "display_data",
          "data": {
            "image/png": "[encoded data removed]",
            "text/plain": [
              "<Figure size 432x288 with 2 Axes>"
            ]
          },
          "metadata": {
            "tags": []
          }
        }
      ]
    },
    {
      "cell_type": "markdown",
      "metadata": {
        "id": "7SUWYR4N20Uf"
      },
      "source": [
        "#ROC Curve for RF"
      ]
    },
    {
      "cell_type": "code",
      "metadata": {
        "id": "zojQHs4wvs33",
        "outputId": "86aa35cf-0abc-44a3-89a0-e737469810ab",
        "colab": {
          "base_uri": "https://localhost:8080/",
          "height": 294
        }
      },
      "source": [
        "%matplotlib inline\n",
        "\n",
        "y_pred_prob = rfc1.predict_proba(testXf)[:,1]\n",
        "\n",
        "fpr, tpr, thresholds = roc_curve(y_test, y_pred_prob)\n",
        "\n",
        "# create plot\n",
        "plt.plot(fpr, tpr, label='ROC curve')\n",
        "plt.plot([0, 1], [0, 1], 'k--', label='Random guess')\n",
        "_ = plt.xlabel('False Positive Rate')\n",
        "_ = plt.ylabel('True Positive Rate')\n",
        "_ = plt.title('ROC Curve')\n",
        "_ = plt.xlim([-0.02, 1])\n",
        "_ = plt.ylim([0, 1.02])\n",
        "_ = plt.legend(loc=\"lower right\")\n",
        "\n",
        "# save figure\n",
        "plt.savefig('roc_curve.png', dpi=200)"
      ],
      "execution_count": null,
      "outputs": [
        {
          "output_type": "display_data",
          "data": {
            "image/png": "[encoded data removed]",
            "text/plain": [
              "<Figure size 432x288 with 1 Axes>"
            ]
          },
          "metadata": {
            "tags": []
          }
        }
      ]
    },
    {
      "cell_type": "markdown",
      "metadata": {
        "id": "weYabP8Q23Mz"
      },
      "source": [
        "#Precision-Recall Curve for RF"
      ]
    },
    {
      "cell_type": "code",
      "metadata": {
        "id": "3Lhliaaivs7p",
        "outputId": "0621d475-7acc-4637-93e0-3330646fc6c2",
        "colab": {
          "base_uri": "https://localhost:8080/",
          "height": 294
        }
      },
      "source": [
        "\n",
        "from sklearn.metrics import precision_recall_curve \n",
        "\n",
        "precision, recall, thresholds = precision_recall_curve(y_test, y_pred_prob)\n",
        "\n",
        "# create plot\n",
        "plt.plot(precision, recall, label='Precision-recall curve')\n",
        "_ = plt.xlabel('Precision')\n",
        "_ = plt.ylabel('Recall')\n",
        "_ = plt.title('Precision-recall curve')\n",
        "_ = plt.xlim([0.735, 1])\n",
        "_ = plt.ylim([0, 1.02])\n",
        "_ = plt.legend(loc=\"lower left\")\n",
        "\n",
        "# save figure\n",
        "plt.savefig('precision_recall.png', dpi=200)"
      ],
      "execution_count": null,
      "outputs": [
        {
          "output_type": "display_data",
          "data": {
            "image/png": "[encoded data removed]",
            "text/plain": [
              "<Figure size 432x288 with 1 Axes>"
            ]
          },
          "metadata": {
            "tags": []
          }
        }
      ]
    },
    {
      "cell_type": "markdown",
      "metadata": {
        "id": "Ev-rKJGZ28XT"
      },
      "source": [
        "#Confusion Matrix for RF"
      ]
    },
    {
      "cell_type": "code",
      "metadata": {
        "id": "A-J8-i84zH1Z",
        "outputId": "21b02a53-0fb5-4cda-bf4a-7eae71d67d3f",
        "colab": {
          "base_uri": "https://localhost:8080/",
          "height": 345
        }
      },
      "source": [
        "# Plot non-normalized confusion matrix\n",
        "titles_options = [\n",
        "                  (\"Confusion matrix\", 'true')]\n",
        "for title, normalize in titles_options:\n",
        "    disp = plot_confusion_matrix(rfc1, testXf, y_test,\n",
        "                                 display_labels=y,\n",
        "                                 cmap=plt.cm.Blues,\n",
        "                                 normalize=normalize)\n",
        "    disp.ax_.set_title(title)\n",
        "\n",
        "    print(title)\n",
        "    print(disp.confusion_matrix)\n",
        "\n",
        "plt.show()"
      ],
      "execution_count": null,
      "outputs": [
        {
          "output_type": "stream",
          "text": [
            "Confusion matrix\n",
            "[[0.99465489 0.00534511]\n",
            " [0.02449785 0.97550215]]\n"
          ],
          "name": "stdout"
        },
        {
          "output_type": "display_data",
          "data": {
            "image/png": "[encoded data removed]",
            "text/plain": [
              "<Figure size 432x288 with 2 Axes>"
            ]
          },
          "metadata": {
            "tags": []
          }
        }
      ]
    },
    {
      "cell_type": "markdown",
      "metadata": {
        "id": "M_mlNv6E2--5"
      },
      "source": [
        "#3. Multilayer Perceptron"
      ]
    },
    {
      "cell_type": "code",
      "metadata": {
        "id": "UIWa8i_xoTDA",
        "outputId": "0410870c-c957-4819-c3a2-e21f982885a8",
        "colab": {
          "base_uri": "https://localhost:8080/",
          "height": 272
        }
      },
      "source": [
        "# Feature scaling\n",
        "scaler = StandardScaler()\n",
        "scaler.fit(trainXf)\n",
        "trainXf = scaler.transform(trainXf)\n",
        "testXf = scaler.transform(testXf)\n",
        "\n",
        "mlp = MLPClassifier(hidden_layer_sizes=(2, 2, 2), max_iter=10)\n",
        "mlp.fit(trainXf,y_train)\n",
        "\n",
        "predictions = mlp.predict(testXf)\n",
        "\n",
        "print(\"=== Confusion Matrix ===\")\n",
        "print(confusion_matrix(y_test,predictions))\n",
        "print('\\n')\n",
        "print(\"=== Classification Report ===\")\n",
        "print(classification_report(y_test,predictions))"
      ],
      "execution_count": null,
      "outputs": [
        {
          "output_type": "stream",
          "text": [
            "=== Confusion Matrix ===\n",
            "[[20852   130]\n",
            " [  627 20134]]\n",
            "\n",
            "\n",
            "=== Classification Report ===\n",
            "              precision    recall  f1-score   support\n",
            "\n",
            "           0       0.97      0.99      0.98     20982\n",
            "           1       0.99      0.97      0.98     20761\n",
            "\n",
            "    accuracy                           0.98     41743\n",
            "   macro avg       0.98      0.98      0.98     41743\n",
            "weighted avg       0.98      0.98      0.98     41743\n",
            "\n"
          ],
          "name": "stdout"
        }
      ]
    },
    {
      "cell_type": "markdown",
      "metadata": {
        "id": "xq-wvwU_3Dm_"
      },
      "source": [
        "#Classification Report for MLP"
      ]
    },
    {
      "cell_type": "code",
      "metadata": {
        "id": "LAdSvSndoTF_",
        "outputId": "3adb4eee-62b6-4025-d83f-c3755495cdc5",
        "colab": {
          "base_uri": "https://localhost:8080/",
          "height": 297
        }
      },
      "source": [
        "# Instantiate the classification model and visualizer\n",
        "visualizer = ClassificationReport(mlp, classes=['0','1'])\n",
        "visualizer.fit(trainXf, y_train) # Fit the training data to the visualizer\n",
        "visualizer.score(testXf, y_test) # Evaluate the model on the test data\n",
        "g = visualizer.poof() # Draw/show/poof the data"
      ],
      "execution_count": null,
      "outputs": [
        {
          "output_type": "display_data",
          "data": {
            "image/png": "[encoded data removed]",
            "text/plain": [
              "<Figure size 432x288 with 2 Axes>"
            ]
          },
          "metadata": {
            "tags": []
          }
        }
      ]
    },
    {
      "cell_type": "markdown",
      "metadata": {
        "id": "5thME3jc3HZR"
      },
      "source": [
        "#ROC Curve for MLP"
      ]
    },
    {
      "cell_type": "code",
      "metadata": {
        "id": "9ENI8zQkoTJU",
        "outputId": "70daf952-bc6b-4877-e6d2-c8e9441a29ea",
        "colab": {
          "base_uri": "https://localhost:8080/",
          "height": 294
        }
      },
      "source": [
        "%matplotlib inline\n",
        "\n",
        "y_pred_prob = mlp.predict_proba(testXf)[:,1]\n",
        "\n",
        "fpr, tpr, thresholds = roc_curve(y_test, y_pred_prob)\n",
        "\n",
        "# create plot\n",
        "plt.plot(fpr, tpr, label='ROC curve')\n",
        "plt.plot([0, 1], [0, 1], 'k--', label='Random guess')\n",
        "_ = plt.xlabel('False Positive Rate')\n",
        "_ = plt.ylabel('True Positive Rate')\n",
        "_ = plt.title('ROC Curve')\n",
        "_ = plt.xlim([-0.02, 1])\n",
        "_ = plt.ylim([0, 1.02])\n",
        "_ = plt.legend(loc=\"lower right\")\n",
        "\n",
        "# save figure\n",
        "plt.savefig('roc_curve.png', dpi=200)"
      ],
      "execution_count": null,
      "outputs": [
        {
          "output_type": "display_data",
          "data": {
            "image/png": "[encoded data removed]",
            "text/plain": [
              "<Figure size 432x288 with 1 Axes>"
            ]
          },
          "metadata": {
            "tags": []
          }
        }
      ]
    },
    {
      "cell_type": "markdown",
      "metadata": {
        "id": "sXN_MPih3LEB"
      },
      "source": [
        "#Precision-Recall Curve for MLP"
      ]
    },
    {
      "cell_type": "code",
      "metadata": {
        "id": "0g_-BY1xqdOJ",
        "outputId": "908d33e0-d002-464d-9b43-3b957ea8fa24",
        "colab": {
          "base_uri": "https://localhost:8080/",
          "height": 294
        }
      },
      "source": [
        "precision, recall, thresholds = precision_recall_curve(y_test, y_pred_prob)\n",
        "\n",
        "# create plot\n",
        "plt.plot(precision, recall, label='Precision-recall curve')\n",
        "_ = plt.xlabel('Precision')\n",
        "_ = plt.ylabel('Recall')\n",
        "_ = plt.title('Precision-recall curve')\n",
        "_ = plt.xlim([0.735, 1])\n",
        "_ = plt.ylim([0, 1.02])\n",
        "_ = plt.legend(loc=\"lower left\")\n",
        "\n",
        "# save figure\n",
        "plt.savefig('precision_recall.png', dpi=200)"
      ],
      "execution_count": null,
      "outputs": [
        {
          "output_type": "display_data",
          "data": {
            "image/png": "[encoded data removed]",
            "text/plain": [
              "<Figure size 432x288 with 1 Axes>"
            ]
          },
          "metadata": {
            "tags": []
          }
        }
      ]
    },
    {
      "cell_type": "markdown",
      "metadata": {
        "id": "y_xMw3Lo3OnQ"
      },
      "source": [
        "#Confusion Matrix for MLP"
      ]
    },
    {
      "cell_type": "code",
      "metadata": {
        "id": "0j9deD8JzTqX",
        "outputId": "0d0fe8f9-b7fb-413c-c698-5901a2e3a059",
        "colab": {
          "base_uri": "https://localhost:8080/",
          "height": 345
        }
      },
      "source": [
        "# Plot non-normalized confusion matrix\n",
        "titles_options = [\n",
        "                  (\"Confusion matrix\", 'true')]\n",
        "for title, normalize in titles_options:\n",
        "    disp = plot_confusion_matrix(mlp, testXf, y_test,\n",
        "                                 display_labels=y,\n",
        "                                 cmap=plt.cm.Blues,\n",
        "                                 normalize=normalize)\n",
        "    disp.ax_.set_title(title)\n",
        "\n",
        "    print(title)\n",
        "    print(disp.confusion_matrix)\n",
        "\n",
        "plt.show()"
      ],
      "execution_count": null,
      "outputs": [
        {
          "output_type": "stream",
          "text": [
            "Confusion matrix\n",
            "[[0.99318463 0.00681537]\n",
            " [0.03106787 0.96893213]]\n"
          ],
          "name": "stdout"
        },
        {
          "output_type": "display_data",
          "data": {
            "image/png": "[encoded data removed]",
            "text/plain": [
              "<Figure size 432x288 with 2 Axes>"
            ]
          },
          "metadata": {
            "tags": []
          }
        }
      ]
    },
    {
      "cell_type": "markdown",
      "metadata": {
        "id": "wWMN2i2s3ZGV"
      },
      "source": [
        "#4. Naive Bayes"
      ]
    },
    {
      "cell_type": "code",
      "metadata": {
        "id": "axIkGAqoraqM",
        "outputId": "51705552-d0ab-46b4-d8a6-562b789af275",
        "colab": {
          "base_uri": "https://localhost:8080/",
          "height": 34
        }
      },
      "source": [
        "nb = GaussianNB()\n",
        "nb.fit(trainXf, y_train)\n",
        "y_pred = nb.predict(testXf)\n",
        "\n",
        "print(accuracy_score(y_test, y_pred))"
      ],
      "execution_count": null,
      "outputs": [
        {
          "output_type": "stream",
          "text": [
            "0.9546267607883221\n"
          ],
          "name": "stdout"
        }
      ]
    },
    {
      "cell_type": "code",
      "metadata": {
        "id": "Haco3T44rm80",
        "outputId": "746f1843-7d89-4493-ac7f-62079aca590d",
        "colab": {
          "base_uri": "https://localhost:8080/",
          "height": 51
        }
      },
      "source": [
        "from sklearn.metrics import confusion_matrix\n",
        "\n",
        "cm = confusion_matrix(y_test, y_pred)\n",
        "\n",
        "print(cm)"
      ],
      "execution_count": null,
      "outputs": [
        {
          "output_type": "stream",
          "text": [
            "[[31004   293]\n",
            " [ 2548 28769]]\n"
          ],
          "name": "stdout"
        }
      ]
    },
    {
      "cell_type": "code",
      "metadata": {
        "id": "wmvK83CPrsHb",
        "outputId": "de1646cf-4c7f-4700-b462-086412367d9f",
        "colab": {
          "base_uri": "https://localhost:8080/",
          "height": 170
        }
      },
      "source": [
        "print(classification_report(y_test, y_pred))"
      ],
      "execution_count": null,
      "outputs": [
        {
          "output_type": "stream",
          "text": [
            "              precision    recall  f1-score   support\n",
            "\n",
            "           0       0.92      0.99      0.96     31297\n",
            "           1       0.99      0.92      0.95     31317\n",
            "\n",
            "    accuracy                           0.95     62614\n",
            "   macro avg       0.96      0.95      0.95     62614\n",
            "weighted avg       0.96      0.95      0.95     62614\n",
            "\n"
          ],
          "name": "stdout"
        }
      ]
    },
    {
      "cell_type": "markdown",
      "metadata": {
        "id": "VZUFq40e3btw"
      },
      "source": [
        "#Classification Report for NB"
      ]
    },
    {
      "cell_type": "code",
      "metadata": {
        "id": "Iw8NIszVrsJ-",
        "outputId": "a96a9b5e-00ee-442c-fbc4-4f159f1cf562",
        "colab": {
          "base_uri": "https://localhost:8080/",
          "height": 297
        }
      },
      "source": [
        "# Instantiate the classification model and visualizer\n",
        "visualizer = ClassificationReport(nb, classes=['0','1'])\n",
        "visualizer.fit(trainXf, train_y) # Fit the training data to the visualizer\n",
        "visualizer.score(testXf, y_test) # Evaluate the model on the test data\n",
        "g = visualizer.poof() # Draw/show/poof the data"
      ],
      "execution_count": null,
      "outputs": [
        {
          "output_type": "display_data",
          "data": {
            "image/png": "[encoded data removed]",
            "text/plain": [
              "<Figure size 432x288 with 2 Axes>"
            ]
          },
          "metadata": {
            "tags": []
          }
        }
      ]
    },
    {
      "cell_type": "markdown",
      "metadata": {
        "id": "sYpvIMsH3e1H"
      },
      "source": [
        "#ROC Curve for NB"
      ]
    },
    {
      "cell_type": "code",
      "metadata": {
        "id": "eE8ZyK-ysHdl",
        "outputId": "f152dcfa-c962-4867-8a4d-198f611cf5fa",
        "colab": {
          "base_uri": "https://localhost:8080/",
          "height": 294
        }
      },
      "source": [
        "%matplotlib inline\n",
        "\n",
        "y_pred_prob = nb.predict_proba(testXf)[:,1]\n",
        "\n",
        "fpr, tpr, thresholds = roc_curve(y_test, y_pred_prob)\n",
        "\n",
        "# create plot\n",
        "plt.plot(fpr, tpr, label='ROC curve')\n",
        "plt.plot([0, 1], [0, 1], 'k--', label='Random guess')\n",
        "_ = plt.xlabel('False Positive Rate')\n",
        "_ = plt.ylabel('True Positive Rate')\n",
        "_ = plt.title('ROC Curve')\n",
        "_ = plt.xlim([-0.02, 1])\n",
        "_ = plt.ylim([0, 1.02])\n",
        "_ = plt.legend(loc=\"lower right\")\n",
        "\n",
        "# save figure\n",
        "plt.savefig('roc_curve.png', dpi=200)"
      ],
      "execution_count": null,
      "outputs": [
        {
          "output_type": "display_data",
          "data": {
            "image/png": "[encoded data removed]",
            "text/plain": [
              "<Figure size 432x288 with 1 Axes>"
            ]
          },
          "metadata": {
            "tags": []
          }
        }
      ]
    },
    {
      "cell_type": "markdown",
      "metadata": {
        "id": "Oz-jIh6t3gx2"
      },
      "source": [
        "#Precision-Recall Curve for NB"
      ]
    },
    {
      "cell_type": "code",
      "metadata": {
        "id": "fxAcmTJysHhp",
        "outputId": "71bc0643-6f25-4f0c-b57e-68a3579cf1d3",
        "colab": {
          "base_uri": "https://localhost:8080/",
          "height": 294
        }
      },
      "source": [
        "precision, recall, thresholds = precision_recall_curve(y_test, y_pred_prob)\n",
        "\n",
        "# create plot\n",
        "plt.plot(precision, recall, label='Precision-recall curve')\n",
        "_ = plt.xlabel('Precision')\n",
        "_ = plt.ylabel('Recall')\n",
        "_ = plt.title('Precision-recall curve')\n",
        "_ = plt.xlim([0.735, 1])\n",
        "_ = plt.ylim([0, 1.02])\n",
        "_ = plt.legend(loc=\"lower left\")\n",
        "\n",
        "# save figure\n",
        "plt.savefig('precision_recall.png', dpi=200)"
      ],
      "execution_count": null,
      "outputs": [
        {
          "output_type": "display_data",
          "data": {
            "image/png": "[encoded data removed]",
            "text/plain": [
              "<Figure size 432x288 with 1 Axes>"
            ]
          },
          "metadata": {
            "tags": []
          }
        }
      ]
    },
    {
      "cell_type": "code",
      "metadata": {
        "id": "11kqWx4zsjLm",
        "outputId": "1f8a89ee-3a18-40ab-b199-f771b35e8d2a",
        "colab": {
          "base_uri": "https://localhost:8080/",
          "height": 34
        }
      },
      "source": [
        "average_precision_score(y_test, y_pred_prob)"
      ],
      "execution_count": null,
      "outputs": [
        {
          "output_type": "execute_result",
          "data": {
            "text/plain": [
              "0.9776369775154395"
            ]
          },
          "metadata": {
            "tags": []
          },
          "execution_count": 62
        }
      ]
    },
    {
      "cell_type": "markdown",
      "metadata": {
        "id": "nTk-lwb13kgS"
      },
      "source": [
        "#Confusion Matrix for NB"
      ]
    },
    {
      "cell_type": "code",
      "metadata": {
        "id": "3Qb0EnzPzgMo",
        "outputId": "fcaf3606-00f8-4568-c6ce-e40c76cc96bf",
        "colab": {
          "base_uri": "https://localhost:8080/",
          "height": 345
        }
      },
      "source": [
        "# Plot non-normalized confusion matrix\n",
        "titles_options = [\n",
        "                  (\"Confusion matrix\", 'true')]\n",
        "for title, normalize in titles_options:\n",
        "    disp = plot_confusion_matrix(nb, testXf, y_test,\n",
        "                                 display_labels=y,\n",
        "                                 cmap=plt.cm.Blues,\n",
        "                                 normalize=normalize)\n",
        "    disp.ax_.set_title(title)\n",
        "\n",
        "    print(title)\n",
        "    print(disp.confusion_matrix)\n",
        "\n",
        "plt.show()"
      ],
      "execution_count": null,
      "outputs": [
        {
          "output_type": "stream",
          "text": [
            "Confusion matrix\n",
            "[[0.99063808 0.00936192]\n",
            " [0.08136156 0.91863844]]\n"
          ],
          "name": "stdout"
        },
        {
          "output_type": "display_data",
          "data": {
            "image/png": "[encoded data removed]",
            "text/plain": [
              "<Figure size 432x288 with 2 Axes>"
            ]
          },
          "metadata": {
            "tags": []
          }
        }
      ]
    }
  ]
}